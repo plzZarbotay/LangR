{
 "nbformat": 4,
 "nbformat_minor": 0,
 "metadata": {
  "colab": {
   "name": "Data.ipynb",
   "provenance": [],
   "collapsed_sections": []
  },
  "kernelspec": {
   "name": "python3",
   "display_name": "Python 3"
  },
  "language_info": {
   "name": "python"
  },
  "widgets": {
   "application/vnd.jupyter.widget-state+json": {
    "ed86798694fa4f9abd044780c931054c": {
     "model_module": "@jupyter-widgets/controls",
     "model_name": "HBoxModel",
     "state": {
      "_view_name": "HBoxView",
      "_dom_classes": [],
      "_model_name": "HBoxModel",
      "_view_module": "@jupyter-widgets/controls",
      "_model_module_version": "1.5.0",
      "_view_count": null,
      "_view_module_version": "1.5.0",
      "box_style": "",
      "layout": "IPY_MODEL_6b916f21d0d44e6c9f4081beb25e55d6",
      "_model_module": "@jupyter-widgets/controls",
      "children": [
       "IPY_MODEL_580ae1e9796046df8b7b7ccde4106d72",
       "IPY_MODEL_5267580eff634d55913145f827159250"
      ]
     }
    },
    "6b916f21d0d44e6c9f4081beb25e55d6": {
     "model_module": "@jupyter-widgets/base",
     "model_name": "LayoutModel",
     "state": {
      "_view_name": "LayoutView",
      "grid_template_rows": null,
      "right": null,
      "justify_content": null,
      "_view_module": "@jupyter-widgets/base",
      "overflow": null,
      "_model_module_version": "1.2.0",
      "_view_count": null,
      "flex_flow": null,
      "width": null,
      "min_width": null,
      "border": null,
      "align_items": null,
      "bottom": null,
      "_model_module": "@jupyter-widgets/base",
      "top": null,
      "grid_column": null,
      "overflow_y": null,
      "overflow_x": null,
      "grid_auto_flow": null,
      "grid_area": null,
      "grid_template_columns": null,
      "flex": null,
      "_model_name": "LayoutModel",
      "justify_items": null,
      "grid_row": null,
      "max_height": null,
      "align_content": null,
      "visibility": null,
      "align_self": null,
      "height": null,
      "min_height": null,
      "padding": null,
      "grid_auto_rows": null,
      "grid_gap": null,
      "max_width": null,
      "order": null,
      "_view_module_version": "1.2.0",
      "grid_template_areas": null,
      "object_position": null,
      "object_fit": null,
      "grid_auto_columns": null,
      "margin": null,
      "display": null,
      "left": null
     }
    },
    "580ae1e9796046df8b7b7ccde4106d72": {
     "model_module": "@jupyter-widgets/controls",
     "model_name": "FloatProgressModel",
     "state": {
      "_view_name": "ProgressView",
      "style": "IPY_MODEL_8006a45bfda143b9b9e2982c8f6eb8ed",
      "_dom_classes": [],
      "description": "100%",
      "_model_name": "FloatProgressModel",
      "bar_style": "success",
      "max": 15000,
      "_view_module": "@jupyter-widgets/controls",
      "_model_module_version": "1.5.0",
      "value": 15000,
      "_view_count": null,
      "_view_module_version": "1.5.0",
      "orientation": "horizontal",
      "min": 0,
      "description_tooltip": null,
      "_model_module": "@jupyter-widgets/controls",
      "layout": "IPY_MODEL_7c8c332261f74068a62ba0d3a2c57e8f"
     }
    },
    "5267580eff634d55913145f827159250": {
     "model_module": "@jupyter-widgets/controls",
     "model_name": "HTMLModel",
     "state": {
      "_view_name": "HTMLView",
      "style": "IPY_MODEL_bace5b4b28dc4c9d9dafabdad5b2c669",
      "_dom_classes": [],
      "description": "",
      "_model_name": "HTMLModel",
      "placeholder": "​",
      "_view_module": "@jupyter-widgets/controls",
      "_model_module_version": "1.5.0",
      "value": " 15000/15000 [00:01&lt;00:00, 8777.35it/s]",
      "_view_count": null,
      "_view_module_version": "1.5.0",
      "description_tooltip": null,
      "_model_module": "@jupyter-widgets/controls",
      "layout": "IPY_MODEL_788cf42e96cd44b3abd213c4db61bceb"
     }
    },
    "8006a45bfda143b9b9e2982c8f6eb8ed": {
     "model_module": "@jupyter-widgets/controls",
     "model_name": "ProgressStyleModel",
     "state": {
      "_view_name": "StyleView",
      "_model_name": "ProgressStyleModel",
      "description_width": "initial",
      "_view_module": "@jupyter-widgets/base",
      "_model_module_version": "1.5.0",
      "_view_count": null,
      "_view_module_version": "1.2.0",
      "bar_color": null,
      "_model_module": "@jupyter-widgets/controls"
     }
    },
    "7c8c332261f74068a62ba0d3a2c57e8f": {
     "model_module": "@jupyter-widgets/base",
     "model_name": "LayoutModel",
     "state": {
      "_view_name": "LayoutView",
      "grid_template_rows": null,
      "right": null,
      "justify_content": null,
      "_view_module": "@jupyter-widgets/base",
      "overflow": null,
      "_model_module_version": "1.2.0",
      "_view_count": null,
      "flex_flow": null,
      "width": null,
      "min_width": null,
      "border": null,
      "align_items": null,
      "bottom": null,
      "_model_module": "@jupyter-widgets/base",
      "top": null,
      "grid_column": null,
      "overflow_y": null,
      "overflow_x": null,
      "grid_auto_flow": null,
      "grid_area": null,
      "grid_template_columns": null,
      "flex": null,
      "_model_name": "LayoutModel",
      "justify_items": null,
      "grid_row": null,
      "max_height": null,
      "align_content": null,
      "visibility": null,
      "align_self": null,
      "height": null,
      "min_height": null,
      "padding": null,
      "grid_auto_rows": null,
      "grid_gap": null,
      "max_width": null,
      "order": null,
      "_view_module_version": "1.2.0",
      "grid_template_areas": null,
      "object_position": null,
      "object_fit": null,
      "grid_auto_columns": null,
      "margin": null,
      "display": null,
      "left": null
     }
    },
    "bace5b4b28dc4c9d9dafabdad5b2c669": {
     "model_module": "@jupyter-widgets/controls",
     "model_name": "DescriptionStyleModel",
     "state": {
      "_view_name": "StyleView",
      "_model_name": "DescriptionStyleModel",
      "description_width": "",
      "_view_module": "@jupyter-widgets/base",
      "_model_module_version": "1.5.0",
      "_view_count": null,
      "_view_module_version": "1.2.0",
      "_model_module": "@jupyter-widgets/controls"
     }
    },
    "788cf42e96cd44b3abd213c4db61bceb": {
     "model_module": "@jupyter-widgets/base",
     "model_name": "LayoutModel",
     "state": {
      "_view_name": "LayoutView",
      "grid_template_rows": null,
      "right": null,
      "justify_content": null,
      "_view_module": "@jupyter-widgets/base",
      "overflow": null,
      "_model_module_version": "1.2.0",
      "_view_count": null,
      "flex_flow": null,
      "width": null,
      "min_width": null,
      "border": null,
      "align_items": null,
      "bottom": null,
      "_model_module": "@jupyter-widgets/base",
      "top": null,
      "grid_column": null,
      "overflow_y": null,
      "overflow_x": null,
      "grid_auto_flow": null,
      "grid_area": null,
      "grid_template_columns": null,
      "flex": null,
      "_model_name": "LayoutModel",
      "justify_items": null,
      "grid_row": null,
      "max_height": null,
      "align_content": null,
      "visibility": null,
      "align_self": null,
      "height": null,
      "min_height": null,
      "padding": null,
      "grid_auto_rows": null,
      "grid_gap": null,
      "max_width": null,
      "order": null,
      "_view_module_version": "1.2.0",
      "grid_template_areas": null,
      "object_position": null,
      "object_fit": null,
      "grid_auto_columns": null,
      "margin": null,
      "display": null,
      "left": null
     }
    }
   }
  }
 },
 "cells": [
  {
   "cell_type": "markdown",
   "metadata": {
    "id": "xOG5Dd37hFfR"
   },
   "source": [
    "# Download Udacity Self Driving Car Dataset"
   ]
  },
  {
   "cell_type": "markdown",
   "metadata": {
    "id": "LdqWaJM0hKY8"
   },
   "source": [
    "> From [Roboflow](https://public.roboflow.com/object-detection/self-driving-car)"
   ]
  },
  {
   "cell_type": "markdown",
   "metadata": {
    "id": "BzCx0LqiunzI"
   },
   "source": [
    "> **Download the data:**"
   ]
  },
  {
   "cell_type": "code",
   "metadata": {
    "id": "A98Iy100nfbB"
   },
   "source": [
    "import os\n",
    "\n",
    "!mkdir UdacitySelfDrivingCarDataset\n",
    "%cd UdacitySelfDrivingCarDataset\n",
    "\n",
    "!curl -L \"https://public.roboflow.com/ds/82j9gSZJ1E?key=SUuRj4rXGx\" > roboflow.zip; unzip roboflow.zip; rm roboflow.zip\n",
    "!mv /content/UdacitySelfDrivingCarDataset/export/images /content/UdacitySelfDrivingCarDataset/images\n",
    "!mv /content/UdacitySelfDrivingCarDataset/export/labels /content/UdacitySelfDrivingCarDataset/labels\n",
    "!rm -rf /content/UdacitySelfDrivingCarDataset/export\n",
    "\n",
    "%cd ../\n",
    "\n",
    "txt_dir = 'UdacitySelfDrivingCarDataset/labels'\n",
    "img_dir = 'UdacitySelfDrivingCarDataset/images'\n",
    "pre_counter_name = 'UdacitySelfDrivingCar'\n",
    "\n",
    "for counter, image in enumerate(os.listdir(img_dir)):\n",
    "    name = image.replace('.jpg', '')\n",
    "    os.rename(f'{img_dir}/{name}.jpg', f'{img_dir}/{pre_counter_name}_{counter:05d}.jpg')\n",
    "    os.rename(f'{txt_dir}/{name}.txt', f'{txt_dir}/{pre_counter_name}_{counter:05d}.txt')"
   ],
   "execution_count": null,
   "outputs": []
  },
  {
   "cell_type": "markdown",
   "metadata": {
    "id": "8BWti9JnfV0g"
   },
   "source": [
    "> **Define the wanted classes:**\n"
   ]
  },
  {
   "cell_type": "code",
   "metadata": {
    "colab": {
     "base_uri": "https://localhost:8080/"
    },
    "id": "kddk4xb6oMY0",
    "outputId": "cebdc823-9e23-4cfa-c7ad-94b84944b442"
   },
   "source": [
    "classes = [\n",
    "    'biker', \n",
    "    'car', \n",
    "    'pedestrian', \n",
    "    'trafficLight', \n",
    "    'trafficLight-Green', \n",
    "    'trafficLight-GreenLeft', \n",
    "    'trafficLight-Red', \n",
    "    'trafficLight-RedLeft', \n",
    "    'trafficLight-Yellow', \n",
    "    'trafficLight-YellowLeft', \n",
    "    'truck'\n",
    "]\n",
    "\n",
    "wanted_classes = ['car', 'pedestrian', 'truck']\n",
    "wanted_ids = [i for i, cls in enumerate(classes) if cls in wanted_classes]\n",
    "classes_id_map = {cls: id for cls, id in zip(wanted_classes, wanted_ids)}\n",
    "\n",
    "new_classes_id_map ={\n",
    "    'car': 5,\n",
    "    'truck': 6,\n",
    "    'pedestrian': 0\n",
    "}\n",
    "\n",
    "def id_updater(curr_id):\n",
    "    if curr_id == 1:   # car\n",
    "        return 5\n",
    "    if curr_id == 10:  # truck\n",
    "        return 6\n",
    "    if curr_id == 2:   # pedestrian\n",
    "        return 0\n",
    "    else:\n",
    "        return -1\n",
    "    \n",
    "print(f'\\nWanted classes: {wanted_classes}   |   Wanted ids: {wanted_ids}\\n')\n",
    "print(f'Classes id map: {classes_id_map}\\n')\n",
    "print(f'New classes id map: {new_classes_id_map}\\n')"
   ],
   "execution_count": null,
   "outputs": [
    {
     "output_type": "stream",
     "text": [
      "\n",
      "Wanted classes: ['car', 'pedestrian', 'truck']   |   Wanted ids: [1, 2, 10]\n",
      "\n",
      "Classes id map: {'car': 1, 'pedestrian': 2, 'truck': 10}\n",
      "\n",
      "New classes id map: {'car': 5, 'truck': 6, 'pedestrian': 0}\n",
      "\n"
     ],
     "name": "stdout"
    }
   ]
  },
  {
   "cell_type": "markdown",
   "metadata": {
    "id": "ZQaDFAALlJEt"
   },
   "source": [
    "> **Remove the unwanted classes and set the new classes id:**"
   ]
  },
  {
   "cell_type": "code",
   "metadata": {
    "id": "i3vUrkoIqKCS",
    "colab": {
     "base_uri": "https://localhost:8080/",
     "height": 66,
     "referenced_widgets": [
      "ed86798694fa4f9abd044780c931054c",
      "6b916f21d0d44e6c9f4081beb25e55d6",
      "580ae1e9796046df8b7b7ccde4106d72",
      "5267580eff634d55913145f827159250",
      "8006a45bfda143b9b9e2982c8f6eb8ed",
      "7c8c332261f74068a62ba0d3a2c57e8f",
      "bace5b4b28dc4c9d9dafabdad5b2c669",
      "788cf42e96cd44b3abd213c4db61bceb"
     ]
    },
    "outputId": "90e68d2b-17aa-4cf4-eb4d-fdf271ece029"
   },
   "source": [
    "def load_txt_to_labels(txt_path):\n",
    "    \"\"\"loads a label from txt file\"\"\"\n",
    "    txt_file = open(txt_path, \"r\")\n",
    "    label = [i.split(' ') for i in txt_file.read().split('\\n') if i]\n",
    "    txt_file.close()\n",
    "    return label\n",
    "\n",
    "def labels_to_txt_str(labels):\n",
    "    \"\"\"convert nested list to string for txt output\"\"\"\n",
    "    label_str = '\\n'.join(\n",
    "        [' '.join([str(cell) for cell in row]) for row in labels]\n",
    "    )\n",
    "    return label_str\n",
    "\n",
    "def save_labels_to_txt(txt_path, label_str):\n",
    "    \"\"\"save new label to txt file\"\"\"\n",
    "    txt_file = open(txt_path, \"w\")\n",
    "    txt_file.write(label_str)\n",
    "    txt_file.close()\n",
    "\n",
    "\n",
    "from tqdm.autonotebook import tqdm\n",
    "\n",
    "txt_files = sorted(os.listdir(txt_dir))\n",
    "for txt_file in tqdm(txt_files):\n",
    "    txt_path = f'{txt_dir}/{txt_file}'\n",
    "    if txt_file[-3:] == 'txt':\n",
    "        labels = load_txt_to_labels(txt_path)\n",
    "        labels_new = []\n",
    "        for label in labels:\n",
    "            label[0] = id_updater(int(label[0]))\n",
    "            if label[0] > 0:\n",
    "                labels_new.append(label)\n",
    "\n",
    "        save_labels_to_txt(txt_path, labels_to_txt_str(labels_new))"
   ],
   "execution_count": null,
   "outputs": [
    {
     "output_type": "display_data",
     "data": {
      "application/vnd.jupyter.widget-view+json": {
       "model_id": "ed86798694fa4f9abd044780c931054c",
       "version_minor": 0,
       "version_major": 2
      },
      "text/plain": [
       "HBox(children=(FloatProgress(value=0.0, max=15000.0), HTML(value='')))"
      ]
     },
     "metadata": {
      "tags": []
     }
    },
    {
     "output_type": "stream",
     "text": [
      "\n"
     ],
     "name": "stdout"
    }
   ]
  },
  {
   "cell_type": "code",
   "metadata": {
    "id": "jNPeicELVP0V"
   },
   "source": [
    "!zip -r UdacitySelfDrivingCarDataset.zip UdacitySelfDrivingCarDataset"
   ],
   "execution_count": null,
   "outputs": []
  },
  {
   "cell_type": "markdown",
   "metadata": {
    "id": "YKwLhQj-yim-"
   },
   "source": [
    "> **Copy to drive:**"
   ]
  },
  {
   "cell_type": "code",
   "metadata": {
    "id": "JOBSiTqqX7KN",
    "pycharm": {
     "name": "#%%\n"
    }
   },
   "source": [
    "from google.colab import drive\n",
    "%cp \"/content/UdacitySelfDrivingCarDataset.zip\" \"/content/drive/MyDrive/Colab Notebooks/Technion 044167 - Object Tracking Project\"\n",
    "drive.flush_and_unmount()"
   ],
   "execution_count": null,
   "outputs": []
  }
 ]
}