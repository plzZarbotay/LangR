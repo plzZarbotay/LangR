{
 "nbformat": 4,
 "nbformat_minor": 0,
 "metadata": {
  "colab": {
   "name": "Data.ipynb",
   "provenance": [],
   "collapsed_sections": []
  },
  "kernelspec": {
   "name": "python3",
   "display_name": "Python 3"
  },
  "language_info": {
   "name": "python"
  },
  "widgets": {
   "application/vnd.jupyter.widget-state+json": {
    "ed86798694fa4f9abd044780c931054c": {
     "model_module": "@jupyter-widgets/controls",
     "model_name": "HBoxModel",
     "state": {
      "_view_name": "HBoxView",
      "_dom_classes": [],
      "_model_name": "HBoxModel",
      "_view_module": "@jupyter-widgets/controls",
      "_model_module_version": "1.5.0",
      "_view_count": null,
      "_view_module_version": "1.5.0",
      "box_style": "",
      "layout": "IPY_MODEL_6b916f21d0d44e6c9f4081beb25e55d6",
      "_model_module": "@jupyter-widgets/controls",
      "children": [
       "IPY_MODEL_580ae1e9796046df8b7b7ccde4106d72",
       "IPY_MODEL_5267580eff634d55913145f827159250"
      ]
     }
    },
    "6b916f21d0d44e6c9f4081beb25e55d6": {
     "model_module": "@jupyter-widgets/base",
     "model_name": "LayoutModel",
     "state": {
      "_view_name": "LayoutView",
      "grid_template_rows": null,
      "right": null,
      "justify_content": null,
      "_view_module": "@jupyter-widgets/base",
      "overflow": null,
      "_model_module_version": "1.2.0",
      "_view_count": null,
      "flex_flow": null,
      "width": null,
      "min_width": null,
      "border": null,
      "align_items": null,
      "bottom": null,
      "_model_module": "@jupyter-widgets/base",
      "top": null,
      "grid_column": null,
      "overflow_y": null,
      "overflow_x": null,
      "grid_auto_flow": null,
      "grid_area": null,
      "grid_template_columns": null,
      "flex": null,
      "_model_name": "LayoutModel",
      "justify_items": null,
      "grid_row": null,
      "max_height": null,
      "align_content": null,
      "visibility": null,
      "align_self": null,
      "height": null,
      "min_height": null,
      "padding": null,
      "grid_auto_rows": null,
      "grid_gap": null,
      "max_width": null,
      "order": null,
      "_view_module_version": "1.2.0",
      "grid_template_areas": null,
      "object_position": null,
      "object_fit": null,
      "grid_auto_columns": null,
      "margin": null,
      "display": null,
      "left": null
     }
    },
    "580ae1e9796046df8b7b7ccde4106d72": {
     "model_module": "@jupyter-widgets/controls",
     "model_name": "FloatProgressModel",
     "state": {
      "_view_name": "ProgressView",
      "style": "IPY_MODEL_8006a45bfda143b9b9e2982c8f6eb8ed",
      "_dom_classes": [],
      "description": "100%",
      "_model_name": "FloatProgressModel",
      "bar_style": "success",
      "max": 15000,
      "_view_module": "@jupyter-widgets/controls",
      "_model_module_version": "1.5.0",
      "value": 15000,
      "_view_count": null,
      "_view_module_version": "1.5.0",
      "orientation": "horizontal",
      "min": 0,
      "description_tooltip": null,
      "_model_module": "@jupyter-widgets/controls",
      "layout": "IPY_MODEL_7c8c332261f74068a62ba0d3a2c57e8f"
     }
    },
    "5267580eff634d55913145f827159250": {
     "model_module": "@jupyter-widgets/controls",
     "model_name": "HTMLModel",
     "state": {
      "_view_name": "HTMLView",
      "style": "IPY_MODEL_bace5b4b28dc4c9d9dafabdad5b2c669",
      "_dom_classes": [],
      "description": "",
      "_model_name": "HTMLModel",
      "placeholder": "​",
      "_view_module": "@jupyter-widgets/controls",
      "_model_module_version": "1.5.0",
      "value": " 15000/15000 [00:01&lt;00:00, 8777.35it/s]",
      "_view_count": null,
      "_view_module_version": "1.5.0",
      "description_tooltip": null,
      "_model_module": "@jupyter-widgets/controls",
      "layout": "IPY_MODEL_788cf42e96cd44b3abd213c4db61bceb"
     }
    },
    "8006a45bfda143b9b9e2982c8f6eb8ed": {
     "model_module": "@jupyter-widgets/controls",
     "model_name": "ProgressStyleModel",
     "state": {
      "_view_name": "StyleView",
      "_model_name": "ProgressStyleModel",
      "description_width": "initial",
      "_view_module": "@jupyter-widgets/base",
      "_model_module_version": "1.5.0",
      "_view_count": null,
      "_view_module_version": "1.2.0",
      "bar_color": null,
      "_model_module": "@jupyter-widgets/controls"
     }
    },
    "7c8c332261f74068a62ba0d3a2c57e8f": {
     "model_module": "@jupyter-widgets/base",
     "model_name": "LayoutModel",
     "state": {
      "_view_name": "LayoutView",
      "grid_template_rows": null,
      "right": null,
      "justify_content": null,
      "_view_module": "@jupyter-widgets/base",
      "overflow": null,
      "_model_module_version": "1.2.0",
      "_view_count": null,
      "flex_flow": null,
      "width": null,
      "min_width": null,
      "border": null,
      "align_items": null,
      "bottom": null,
      "_model_module": "@jupyter-widgets/base",
      "top": null,
      "grid_column": null,
      "overflow_y": null,
      "overflow_x": null,
      "grid_auto_flow": null,
      "grid_area": null,
      "grid_template_columns": null,
      "flex": null,
      "_model_name": "LayoutModel",
      "justify_items": null,
      "grid_row": null,
      "max_height": null,
      "align_content": null,
      "visibility": null,
      "align_self": null,
      "height": null,
      "min_height": null,
      "padding": null,
      "grid_auto_rows": null,
      "grid_gap": null,
      "max_width": null,
      "order": null,
      "_view_module_version": "1.2.0",
      "grid_template_areas": null,
      "object_position": null,
      "object_fit": null,
      "grid_auto_columns": null,
      "margin": null,
      "display": null,
      "left": null
     }
    },
    "bace5b4b28dc4c9d9dafabdad5b2c669": {
     "model_module": "@jupyter-widgets/controls",
     "model_name": "DescriptionStyleModel",
     "state": {
      "_view_name": "StyleView",
      "_model_name": "DescriptionStyleModel",
      "description_width": "",
      "_view_module": "@jupyter-widgets/base",
      "_model_module_version": "1.5.0",
      "_view_count": null,
      "_view_module_version": "1.2.0",
      "_model_module": "@jupyter-widgets/controls"
     }
    },
    "788cf42e96cd44b3abd213c4db61bceb": {
     "model_module": "@jupyter-widgets/base",
     "model_name": "LayoutModel",
     "state": {
      "_view_name": "LayoutView",
      "grid_template_rows": null,
      "right": null,
      "justify_content": null,
      "_view_module": "@jupyter-widgets/base",
      "overflow": null,
      "_model_module_version": "1.2.0",
      "_view_count": null,
      "flex_flow": null,
      "width": null,
      "min_width": null,
      "border": null,
      "align_items": null,
      "bottom": null,
      "_model_module": "@jupyter-widgets/base",
      "top": null,
      "grid_column": null,
      "overflow_y": null,
      "overflow_x": null,
      "grid_auto_flow": null,
      "grid_area": null,
      "grid_template_columns": null,
      "flex": null,
      "_model_name": "LayoutModel",
      "justify_items": null,
      "grid_row": null,
      "max_height": null,
      "align_content": null,
      "visibility": null,
      "align_self": null,
      "height": null,
      "min_height": null,
      "padding": null,
      "grid_auto_rows": null,
      "grid_gap": null,
      "max_width": null,
      "order": null,
      "_view_module_version": "1.2.0",
      "grid_template_areas": null,
      "object_position": null,
      "object_fit": null,
      "grid_auto_columns": null,
      "margin": null,
      "display": null,
      "left": null
     }
    }
   }
  }
 },
 "cells": [
  {
   "cell_type": "markdown",
   "source": [
    "# FiftyOne"
   ],
   "metadata": {
    "collapsed": false,
    "pycharm": {
     "name": "#%% md\n"
    }
   }
  },
  {
   "cell_type": "markdown",
   "metadata": {
    "id": "axZPm4twhObZ"
   },
   "source": [
    "> Adding Rocket data from [Open Images V6](https://storage.googleapis.com/openimages/web/index.html) using [FiftyOne](https://voxel51.com/docs/fiftyone/user_guide/dataset_zoo/datasets.html#open-images-v6)"
   ]
  },
  {
   "cell_type": "code",
   "metadata": {
    "id": "4SWSlrMEj_M6",
    "colab": {
     "base_uri": "https://localhost:8080/"
    },
    "outputId": "e5eff176-7829-40a0-addd-2d506d8af736"
   },
   "source": [
    "# !pip install fiftyone\n",
    "\n",
    "import fiftyone as fo\n",
    "import fiftyone.zoo as foz\n",
    "\n",
    "subset = foz.load_zoo_dataset(\n",
    "    \"open-images-v6\",\n",
    "    split=\"train\",\n",
    "    label_types=[\"detections\"],\n",
    "    classes=[\"Rocket\", \"Truck\"],\n",
    "    max_samples=1000,\n",
    ")"
   ],
   "execution_count": null,
   "outputs": [
    {
     "output_type": "stream",
     "text": [
      "/usr/local/lib/python3.7/dist-packages/requests/__init__.py:91: RequestsDependencyWarning: urllib3 (1.26.5) or chardet (3.0.4) doesn't match a supported version!\n",
      "  RequestsDependencyWarning)\n"
     ],
     "name": "stderr"
    },
    {
     "output_type": "stream",
     "text": [
      "Downloading split 'train' to '/root/fiftyone/open-images-v6/train'\n"
     ],
     "name": "stdout"
    }
   ]
  },
  {
   "cell_type": "code",
   "metadata": {
    "id": "SUPgzd1NmRj5"
   },
   "source": [
    "session = fo.launch_app(subset)\n",
    "session.dataset = subset"
   ],
   "execution_count": null,
   "outputs": []
  },
  {
   "cell_type": "markdown",
   "metadata": {
    "id": "f2Pd2KsQ6vnl"
   },
   "source": [
    "# ImageNet Downloader\n"
   ]
  },
  {
   "cell_type": "markdown",
   "metadata": {
    "id": "gDNxxpFzhSP8"
   },
   "source": [
    "**Details:**\n",
    "> * Source: https://github.com/mf1024/ImageNet-datasets-downloader.\n",
    "> * List of the classes in the dataset can be found at `classes_in_imagenet.csv`."
   ]
  },
  {
   "cell_type": "markdown",
   "metadata": {
    "id": "WCtYWBgjmAkX"
   },
   "source": [
    "**Relevant classes for the project:**\n",
    "> * n02739889, armored car, 1058, 418\n",
    "* n02740061, armored car, 37, 16\n",
    "* n02740300, armored personnel carrier, 1594, 615\n",
    "* n02740533, armored vehicle, 1221, 674\n",
    "* n03764276, military vehicle, 1231, 956\n",
    "* n04170037, self-propelled vehicle, 1008, 230\n",
    "* n04464852, tracked vehicle, 1133, 626\n",
    "* n04524313, vehicle, 1519, 1143\n",
    "* n04576211, wheeled vehicle, 1537, 1000\n",
    "* n06255081, vehicle, 1559, 808\n",
    "* n04389521, tank car, 1379, 730\n",
    "* n04389718, tank destroyer, 727, 292\n",
    "* n10622053, soldier, 1266, 1053\n",
    "* n03763968, military uniform, 1431, 1375\n",
    "* n10316862, military leader,329,127\n",
    "* n10317007, military officer, 1098, 573\n",
    "* n10317500, military policeman, 1237, 609\n"
   ]
  },
  {
   "cell_type": "markdown",
   "metadata": {
    "id": "nQZo4HXGiucE"
   },
   "source": [
    "**Usage Example:**\n",
    "> **NOTE:** Original GitHub code has a bug, so fix it using this [pull request](https://github.com/mf1024/ImageNet-Datasets-Downloader/pull/20/commits/c02438ac97bf698a8e181f6374ee00cd427974c5)."
   ]
  },
  {
   "cell_type": "code",
   "metadata": {
    "id": "Jz6iBiefZZTn",
    "pycharm": {
     "name": "#%%\n"
    }
   },
   "source": [
    "!git clone https://github.com/mf1024/ImageNet-datasets-downloader\n",
    "%cd ImageNet-datasets-downloader\n",
    "\n",
    "# create directory for downloaded images\n",
    "!mkdir imagenet\n",
    "\n",
    "# download images\n",
    "!python downloader.py -data_root imagenet -use_class_list True -class_list n10622053 n03763968 n10317007 n10317500 -images_per_class 1000 -multiprocessing_workers 24\n",
    "\n",
    "%cd ../"
   ],
   "execution_count": null,
   "outputs": []
  }
 ]
}