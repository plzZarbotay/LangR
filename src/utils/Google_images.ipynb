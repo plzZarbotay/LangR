{
 "nbformat": 4,
 "nbformat_minor": 0,
 "metadata": {
  "colab": {
   "name": "Utils Example.ipynb",
   "provenance": []
  },
  "kernelspec": {
   "name": "python3",
   "display_name": "Python 3"
  },
  "language_info": {
   "name": "python"
  }
 },
 "cells": [
  {
   "cell_type": "code",
   "metadata": {
    "id": "ABluewcw6iZc"
   },
   "source": [
    "import os\n",
    "import cv2\n",
    "import time\n",
    "import requests\n",
    "import numpy as np\n",
    "import pandas as pd\n",
    "import urllib.request\n",
    "from PIL import Image\n",
    "import matplotlib.pyplot as plt\n",
    "from tqdm.autonotebook import tqdm\n",
    "from google.colab.patches import cv2_imshow\n",
    "from IPython.display import HTML, display, clear_output"
   ],
   "execution_count": null,
   "outputs": []
  },
  {
   "cell_type": "markdown",
   "metadata": {
    "id": "J7eA-Bua7Mea"
   },
   "source": [
    "# Google Images"
   ]
  },
  {
   "cell_type": "code",
   "metadata": {
    "id": "GnUwiyGp7GwD"
   },
   "source": [
    "!pip install kora -q    # https://forums.fast.ai/t/google-image-scraper/79682/7\n",
    "import google_images\n",
    "from kora.selenium import wd\n",
    "\n",
    "some_search_term = 'car'\n",
    "\n",
    "image_search_urls = [\n",
    "    'https://www.google.com/search?q=image&source=lnms&tbm=isch&sa=X',\n",
    "    f'https://www.google.com/search?q={some_search_term}&source=lnms&tbm=isch&sa=X',\n",
    "]"
   ],
   "execution_count": null,
   "outputs": []
  },
  {
   "cell_type": "markdown",
   "metadata": {
    "id": "bOHhHg2R0gCy"
   },
   "source": [
    "> Get a list of image's urls:"
   ]
  },
  {
   "cell_type": "code",
   "metadata": {
    "id": "QtvHbKOB0Vuq"
   },
   "source": [
    "all_urls = []\n",
    "for url in image_search_urls:\n",
    "    try:\n",
    "        urls = google_images.get_urls_from_search(search_url=url, wd=wd)\n",
    "        all_urls.append(urls)\n",
    "    except:\n",
    "        print(f'Failed on {url}')\n",
    " \n",
    "urls_set = set()\n",
    "for url_set in all_urls:\n",
    "    urls_set = set.union(urls_set, url_set)\n",
    " \n",
    "urls_list = [url for url in list(urls_set) if not url.startswith('https://encrypted')]\n",
    "print(f'Found {len(urls_list)} urls')"
   ],
   "execution_count": null,
   "outputs": []
  },
  {
   "cell_type": "markdown",
   "metadata": {
    "id": "tbNfW9H20ngC"
   },
   "source": [
    "> Download the images to a given folder:"
   ]
  },
  {
   "cell_type": "code",
   "metadata": {
    "id": "pSBeK-Z3smQp",
    "pycharm": {
     "name": "#%%\n"
    }
   },
   "source": [
    "target_folder = 'new_images'\n",
    "!mkdir {target_folder}\n",
    "\n",
    "count, urls = 0, []      \n",
    "for url in tqdm(urls_list[:10]):\n",
    "    rc = google_images.save_image_from_url(target_folder, url, verbose=True)\n",
    "    if rc:\n",
    "        count += 1\n",
    "        urls.append(url)\n",
    "\n",
    "print(f\"Expected {len(urls_list)}, succeeded at saving {count}.\")\n",
    "\n"
   ],
   "execution_count": null,
   "outputs": []
  }
 ]
}